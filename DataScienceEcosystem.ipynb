{
 "cells": [
  {
   "cell_type": "markdown",
   "id": "5dc8bfd9-0655-404b-bfbc-88e3dbe454bf",
   "metadata": {},
   "source": [
    "# Data Science Tools and Ecosystem"
   ]
  },
  {
   "cell_type": "markdown",
   "id": "1c3a7565-ba97-4df2-9493-98ddaa46428d",
   "metadata": {},
   "source": [
    "__Objectives:__\n",
    "- List popular languages for data science\n",
    "- List libraries commonly used by data scientists\n",
    "- Write simple arithmetic expression to multiply\n",
    "- Write simple arithmetic expression to convert minutes to hours"
   ]
  },
  {
   "cell_type": "markdown",
   "id": "c80e1f40-1dbf-4356-8f5e-2d56cfcd6794",
   "metadata": {},
   "source": [
    "In this notebook, Data Science Tools and Ecosystem are summarized."
   ]
  },
  {
   "cell_type": "markdown",
   "id": "2b0c3396-9163-47c2-af95-e338407a8055",
   "metadata": {
    "tags": []
   },
   "source": [
    "Some of the popular languages that Data Scientists use are:\n",
    "\n",
    "1. Python\n",
    "2. R\n",
    "3. SQL"
   ]
  },
  {
   "cell_type": "markdown",
   "id": "5c700b69-bd60-4cb3-8428-f129ee1c6c9f",
   "metadata": {},
   "source": [
    "Some of the commonly used libraries used by Data Scientists include:\n",
    "\n",
    "1. Scikit-learn\n",
    "2. Pandas\n",
    "3. Matplotlib"
   ]
  },
  {
   "cell_type": "markdown",
   "id": "97722974-7a64-4a9d-9563-f1e263c2dc7b",
   "metadata": {},
   "source": [
    "|Data Science Tools|\n",
    "|-----|\n",
    "|Jupyter Notebook|\n",
    "|VS Code|\n",
    "|Colab|"
   ]
  },
  {
   "cell_type": "markdown",
   "id": "f721ba63-c288-4408-924f-339eb7956e3c",
   "metadata": {},
   "source": [
    "### Below are a few examples of evaluating arithmetic expressions in Python"
   ]
  },
  {
   "cell_type": "markdown",
   "id": "cdeaf571-b135-4fc7-bb04-f49b4c57c8d2",
   "metadata": {
    "tags": []
   },
   "source": [
    "This a simple arithmetic expression to mutiply then add integers:"
   ]
  },
  {
   "cell_type": "code",
   "execution_count": 7,
   "id": "a6bcc3b3-f796-4d33-9bc7-d14a109e7c9b",
   "metadata": {
    "tags": []
   },
   "outputs": [
    {
     "data": {
      "text/plain": [
       "17"
      ]
     },
     "execution_count": 7,
     "metadata": {},
     "output_type": "execute_result"
    }
   ],
   "source": [
    "(3*4)+5"
   ]
  },
  {
   "cell_type": "markdown",
   "id": "2eb7d85f-7a4f-4477-b1d7-c2edde94cc9f",
   "metadata": {},
   "source": [
    "This will convert 200 minutes to hours by diving by 60"
   ]
  },
  {
   "cell_type": "code",
   "execution_count": 8,
   "id": "f0321b6a-0b5c-44cc-86e5-005f3e2c33ed",
   "metadata": {
    "tags": []
   },
   "outputs": [
    {
     "data": {
      "text/plain": [
       "3.3333333333333335"
      ]
     },
     "execution_count": 8,
     "metadata": {},
     "output_type": "execute_result"
    }
   ],
   "source": [
    "200/60"
   ]
  },
  {
   "cell_type": "markdown",
   "id": "64d9f4a6-7cd3-42e0-b303-31e512345767",
   "metadata": {},
   "source": [
    "## Author\n",
    "José Geraldo de Souza Silva Gonçalo"
   ]
  },
  {
   "cell_type": "code",
   "execution_count": null,
   "id": "08adb91e-eea9-4c31-9db3-f2c91d3fd231",
   "metadata": {},
   "outputs": [],
   "source": []
  }
 ],
 "metadata": {
  "kernelspec": {
   "display_name": "Python",
   "language": "python",
   "name": "conda-env-python-py"
  },
  "language_info": {
   "codemirror_mode": {
    "name": "ipython",
    "version": 3
   },
   "file_extension": ".py",
   "mimetype": "text/x-python",
   "name": "python",
   "nbconvert_exporter": "python",
   "pygments_lexer": "ipython3",
   "version": "3.7.12"
  }
 },
 "nbformat": 4,
 "nbformat_minor": 5
}
